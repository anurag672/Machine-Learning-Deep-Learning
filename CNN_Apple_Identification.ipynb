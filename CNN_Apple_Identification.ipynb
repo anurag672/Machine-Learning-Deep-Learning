{
  "nbformat": 4,
  "nbformat_minor": 0,
  "metadata": {
    "colab": {
      "name": "CNN.ipynb",
      "provenance": [],
      "collapsed_sections": [],
      "authorship_tag": "ABX9TyM6mbdJcuBBDXnW4B7lMqHM",
      "include_colab_link": true
    },
    "kernelspec": {
      "name": "python3",
      "display_name": "Python 3"
    },
    "language_info": {
      "name": "python"
    }
  },
  "cells": [
    {
      "cell_type": "markdown",
      "metadata": {
        "id": "view-in-github",
        "colab_type": "text"
      },
      "source": [
        "<a href=\"https://colab.research.google.com/github/anurag672/Machine-Learning-Deep-Learning/blob/main/CNN_Apple_Identification.ipynb\" target=\"_parent\"><img src=\"https://colab.research.google.com/assets/colab-badge.svg\" alt=\"Open In Colab\"/></a>"
      ]
    },
    {
      "cell_type": "code",
      "metadata": {
        "id": "189vRh2qCPn-"
      },
      "source": [
        "import tensorflow as tf\n",
        "from keras.preprocessing.image import ImageDataGenerator"
      ],
      "execution_count": null,
      "outputs": []
    },
    {
      "cell_type": "markdown",
      "metadata": {
        "id": "8u5rBvw0F7s8"
      },
      "source": [
        "# 2 Data Preprocessing\n",
        "\n",
        "# 2.1 Processing the training set"
      ]
    },
    {
      "cell_type": "markdown",
      "metadata": {
        "id": "Up-y09IlFRit"
      },
      "source": [
        "# 1 importing libraries\n",
        "\n",
        "\n",
        "\n"
      ]
    },
    {
      "cell_type": "code",
      "metadata": {
        "id": "crHFVDPlF7Di"
      },
      "source": [
        "train_datagen = ImageDataGenerator(\n",
        "        rescale=1./255,\n",
        "        shear_range=0.2,\n",
        "        zoom_range=0.2,\n",
        "        horizontal_flip=True)\n",
        "\n",
        "training_set = train_datagen.flow_from_directory(\n",
        "        'train',\n",
        "        target_size=(64, 64),\n",
        "        batch_size=1,\n",
        "        class_mode='binary')"
      ],
      "execution_count": null,
      "outputs": []
    },
    {
      "cell_type": "markdown",
      "metadata": {
        "id": "o_O7r6OBHmX8"
      },
      "source": [
        "# 2.2 Processing the training set"
      ]
    },
    {
      "cell_type": "code",
      "metadata": {
        "id": "76dMYyJfHrff"
      },
      "source": [
        "test_datagen = ImageDataGenerator(rescale=1./255)\n",
        "test_set = test_datagen.flow_from_directory(\n",
        "        'test',\n",
        "        target_size=(64, 64),\n",
        "        batch_size=1,\n",
        "        class_mode='binary')"
      ],
      "execution_count": null,
      "outputs": []
    },
    {
      "cell_type": "markdown",
      "metadata": {
        "id": "FWmtae8OTqBZ"
      },
      "source": [
        "# 3. Building the CNN"
      ]
    },
    {
      "cell_type": "code",
      "metadata": {
        "id": "4lm0FPrVT2hv"
      },
      "source": [
        "cnn = tf.keras.models.Sequential()"
      ],
      "execution_count": null,
      "outputs": []
    },
    {
      "cell_type": "markdown",
      "metadata": {
        "id": "XWRAcScKUGSo"
      },
      "source": [
        "# 3.1 Convolution"
      ]
    },
    {
      "cell_type": "code",
      "metadata": {
        "id": "1_mrzmaiUZ2m"
      },
      "source": [
        "cnn.add(tf.keras.layers.Conv2D(filters=32, kernal_size = 3, activation= 'relu', input_shape = [64,64,3]))"
      ],
      "execution_count": null,
      "outputs": []
    },
    {
      "cell_type": "markdown",
      "metadata": {
        "id": "w1teIMX7WnS2"
      },
      "source": [
        "# 3.2 Pooling "
      ]
    },
    {
      "cell_type": "code",
      "metadata": {
        "id": "lFN-mxBZWq7Q"
      },
      "source": [
        "cnn.add(tf.keras.layers.MaxPool2D(pool_size=2, strides=2))"
      ],
      "execution_count": null,
      "outputs": []
    },
    {
      "cell_type": "markdown",
      "metadata": {
        "id": "Kr22-9WNX3k5"
      },
      "source": [
        "# 3.3 Adding one more convolution and pooling layer"
      ]
    },
    {
      "cell_type": "code",
      "metadata": {
        "id": "L6EwkOcNX8Yv"
      },
      "source": [
        "cnn.add(tf.keras.layers.Conv2D(filters=32, kernal_size = 3, activation= 'relu'))\n",
        "cnn.add(tf.keras.layers.MaxPool2D(pool_size=2, strides=2))"
      ],
      "execution_count": null,
      "outputs": []
    },
    {
      "cell_type": "markdown",
      "metadata": {
        "id": "GnzztQLnYDF4"
      },
      "source": [
        "# 3.4 Flattering"
      ]
    },
    {
      "cell_type": "code",
      "metadata": {
        "id": "QUnLcWL2YIVL"
      },
      "source": [
        "cnn.add(tf.keras.layers.Flatten())"
      ],
      "execution_count": null,
      "outputs": []
    },
    {
      "cell_type": "markdown",
      "metadata": {
        "id": "uiBUCjz1YXyc"
      },
      "source": [
        "# 4. Full Connection"
      ]
    },
    {
      "cell_type": "code",
      "metadata": {
        "id": "AQ0ZDIjlYb7S"
      },
      "source": [
        "cnn.add(tf.keras.layer.Dense(units = 128, activation = 'relu'))"
      ],
      "execution_count": null,
      "outputs": []
    },
    {
      "cell_type": "markdown",
      "metadata": {
        "id": "WXef7rUOY-_0"
      },
      "source": [
        "# 5. Output Layer"
      ]
    },
    {
      "cell_type": "code",
      "metadata": {
        "id": "q-ARC9s0ZBkg"
      },
      "source": [
        "cnn.add(tf.keras.layers.Dense(units = 1, activation='sigmoid'))"
      ],
      "execution_count": null,
      "outputs": []
    },
    {
      "cell_type": "markdown",
      "metadata": {
        "id": "35Eet9BEaFdc"
      },
      "source": [
        "# 6. Compiling the CNN"
      ]
    },
    {
      "cell_type": "code",
      "metadata": {
        "id": "tLWTl8B7aIVu"
      },
      "source": [
        "cnn.compile(optimizer='adam',loss='binary_crossentrophy',metrics=['accuracy'])"
      ],
      "execution_count": null,
      "outputs": []
    },
    {
      "cell_type": "markdown",
      "metadata": {
        "id": "4z86EHKabE17"
      },
      "source": [
        "# 7. training the cnn on training_set and evaluation on the test_set"
      ]
    },
    {
      "cell_type": "code",
      "metadata": {
        "id": "VHOB_CwLbLSq"
      },
      "source": [
        "cnn.fit(x= training_set, validation_data= testing_set, epochs=30)"
      ],
      "execution_count": null,
      "outputs": []
    },
    {
      "cell_type": "markdown",
      "metadata": {
        "id": "WxNIHn7LbbjD"
      },
      "source": [
        "# 8. Making a single prediction"
      ]
    },
    {
      "cell_type": "code",
      "metadata": {
        "id": "M1yQjXE1AUFF"
      },
      "source": [
        "import numpy as np\n",
        "from keras.preprocessing import image\n",
        "test_image = image.load_img('test\\apple_or_other_1')\n",
        "test_image = image.img_to_array(test_image)\n",
        "test_image = np.expand_dims(test_image, axis =0)\n",
        "result = cnn.predict(test_image)\n",
        "training_set.class_indices\n",
        "\n",
        "if result[0][0] == 1:\n",
        "  prediction = 'apple'\n",
        "else:\n",
        "    prediction = 'other'\n",
        "\n",
        "print(prediction)\n"
      ],
      "execution_count": null,
      "outputs": []
    },
    {
      "cell_type": "code",
      "metadata": {
        "id": "HZtTMKr2FHdN"
      },
      "source": [
        ""
      ],
      "execution_count": null,
      "outputs": []
    }
  ]
}