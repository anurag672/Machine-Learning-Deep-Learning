{
  "nbformat": 4,
  "nbformat_minor": 0,
  "metadata": {
    "colab": {
      "name": "Ann_classification.ipynb",
      "provenance": [],
      "collapsed_sections": [],
      "toc_visible": true
    },
    "kernelspec": {
      "name": "python3",
      "display_name": "Python 3"
    },
    "language_info": {
      "name": "python"
    }
  },
  "cells": [
    {
      "cell_type": "code",
      "metadata": {
        "id": "5H1tzgVOaB6K"
      },
      "source": [
        "import pandas as pd\n",
        "import numpy as np\n",
        "import tensorflow as tf"
      ],
      "execution_count": null,
      "outputs": []
    },
    {
      "cell_type": "code",
      "metadata": {
        "colab": {
          "base_uri": "https://localhost:8080/",
          "height": 35
        },
        "id": "kh2Ws9rKkxop",
        "outputId": "45d03aa4-dbbe-430e-d383-098df89bbcb8"
      },
      "source": [
        "tf.__version__"
      ],
      "execution_count": null,
      "outputs": [
        {
          "output_type": "execute_result",
          "data": {
            "application/vnd.google.colaboratory.intrinsic+json": {
              "type": "string"
            },
            "text/plain": [
              "'2.4.1'"
            ]
          },
          "metadata": {
            "tags": []
          },
          "execution_count": 2
        }
      ]
    },
    {
      "cell_type": "code",
      "metadata": {
        "id": "hR_TO8DXk1Yi",
        "colab": {
          "base_uri": "https://localhost:8080/"
        },
        "outputId": "702a5691-ef23-4928-801a-b5130defdcae"
      },
      "source": [
        "dataset = pd.read_csv('Churn_Modelling.csv')\n",
        "dataset.isnull().sum()\n",
        "dataset.columns"
      ],
      "execution_count": null,
      "outputs": [
        {
          "output_type": "execute_result",
          "data": {
            "text/plain": [
              "Index(['RowNumber', 'CustomerId', 'Surname', 'CreditScore', 'Geography',\n",
              "       'Gender', 'Age', 'Tenure', 'Balance', 'NumOfProducts', 'HasCrCard',\n",
              "       'IsActiveMember', 'EstimatedSalary', 'Exited'],\n",
              "      dtype='object')"
            ]
          },
          "metadata": {
            "tags": []
          },
          "execution_count": 5
        }
      ]
    },
    {
      "cell_type": "code",
      "metadata": {
        "colab": {
          "base_uri": "https://localhost:8080/",
          "height": 162
        },
        "id": "Y9YZriJySd64",
        "outputId": "e5a3923f-214c-406a-b6bb-56beff715fd6"
      },
      "source": [
        "X[1]"
      ],
      "execution_count": null,
      "outputs": [
        {
          "output_type": "error",
          "ename": "NameError",
          "evalue": "ignored",
          "traceback": [
            "\u001b[0;31m---------------------------------------------------------------------------\u001b[0m",
            "\u001b[0;31mNameError\u001b[0m                                 Traceback (most recent call last)",
            "\u001b[0;32m<ipython-input-6-b33b232e0a5f>\u001b[0m in \u001b[0;36m<module>\u001b[0;34m()\u001b[0m\n\u001b[0;32m----> 1\u001b[0;31m \u001b[0mX\u001b[0m\u001b[0;34m[\u001b[0m\u001b[0;36m1\u001b[0m\u001b[0;34m]\u001b[0m\u001b[0;34m\u001b[0m\u001b[0;34m\u001b[0m\u001b[0m\n\u001b[0m",
            "\u001b[0;31mNameError\u001b[0m: name 'X' is not defined"
          ]
        }
      ]
    },
    {
      "cell_type": "markdown",
      "metadata": {
        "id": "vwIxpQevuPy8"
      },
      "source": [
        "# New Section X represent the features of the data (independent variable)\n",
        "# New Section y represent the dependent variable"
      ]
    },
    {
      "cell_type": "code",
      "metadata": {
        "id": "KMFdEiDkuORC"
      },
      "source": [
        "X = dataset.iloc[:,3:-1].values\n",
        "y = dataset.iloc[:,-1].values"
      ],
      "execution_count": null,
      "outputs": []
    },
    {
      "cell_type": "code",
      "metadata": {
        "colab": {
          "base_uri": "https://localhost:8080/"
        },
        "id": "TRcPb6uovAPY",
        "outputId": "d7edcc5a-2979-4dba-90fb-4e586b90c988"
      },
      "source": [
        "print(X)"
      ],
      "execution_count": null,
      "outputs": [
        {
          "output_type": "stream",
          "text": [
            "[[619 'France' 'Female' ... 1 1 101348.88]\n",
            " [608 'Spain' 'Female' ... 0 1 112542.58]\n",
            " [502 'France' 'Female' ... 1 0 113931.57]\n",
            " ...\n",
            " [709 'France' 'Female' ... 0 1 42085.58]\n",
            " [772 'Germany' 'Male' ... 1 0 92888.52]\n",
            " [792 'France' 'Female' ... 1 0 38190.78]]\n"
          ],
          "name": "stdout"
        }
      ]
    },
    {
      "cell_type": "markdown",
      "metadata": {
        "id": "SD0ifWYpt24L"
      },
      "source": [
        "# Label Encoding, OneHotEncoding with Column transformer"
      ]
    },
    {
      "cell_type": "code",
      "metadata": {
        "id": "KwYGPPWcTK9H"
      },
      "source": [
        "lb = LabelEncoder()\n",
        "X[:,2] = lb.fit_transform(X[:,2])\n"
      ],
      "execution_count": null,
      "outputs": []
    },
    {
      "cell_type": "code",
      "metadata": {
        "id": "JJE4lKylpDKi"
      },
      "source": [
        "from sklearn.preprocessing import LabelEncoder, OneHotEncoder\n",
        "from sklearn.compose import ColumnTransformer"
      ],
      "execution_count": null,
      "outputs": []
    },
    {
      "cell_type": "code",
      "metadata": {
        "id": "lkaN0G_woxOE"
      },
      "source": [
        "trans = ColumnTransformer([('tf2', OneHotEncoder(drop='first', sparse = False), [1])\n",
        "                            ], remainder = 'passthrough')"
      ],
      "execution_count": null,
      "outputs": []
    },
    {
      "cell_type": "code",
      "metadata": {
        "id": "j5YDA4SFzH-M"
      },
      "source": [
        "X = np.array(trans.fit_transform(X))"
      ],
      "execution_count": null,
      "outputs": []
    },
    {
      "cell_type": "code",
      "metadata": {
        "id": "T7rwNP_f7hQq"
      },
      "source": [
        "from sklearn.model_selection import train_test_split \n",
        "[X_train, X_test, y_train, y_test] = train_test_split(X,y,test_size = 0.25, random_state = 0)"
      ],
      "execution_count": null,
      "outputs": []
    },
    {
      "cell_type": "code",
      "metadata": {
        "colab": {
          "base_uri": "https://localhost:8080/"
        },
        "id": "CcbB9pu6W_7X",
        "outputId": "519b0c0a-1efd-40bb-f844-d438c69b6017"
      },
      "source": [
        "X_train.shape"
      ],
      "execution_count": null,
      "outputs": [
        {
          "output_type": "execute_result",
          "data": {
            "text/plain": [
              "(7500, 11)"
            ]
          },
          "metadata": {
            "tags": []
          },
          "execution_count": 15
        }
      ]
    },
    {
      "cell_type": "code",
      "metadata": {
        "id": "vImRqWt96ByP"
      },
      "source": [
        "from sklearn.preprocessing import StandardScaler\n",
        "sc = StandardScaler()\n",
        "X_train[:,3:] = sc.fit_transform(X_train[:,3:])\n",
        "X_test[:,3:] = sc.transform(X_test[:,3:])"
      ],
      "execution_count": null,
      "outputs": []
    },
    {
      "cell_type": "markdown",
      "metadata": {
        "id": "72glY-DRZGuD"
      },
      "source": [
        "# If the error is coming while performing the ann fit on the data\n"
      ]
    },
    {
      "cell_type": "code",
      "metadata": {
        "id": "FsohA76_6f4Z"
      },
      "source": [
        "X_test = tf.convert_to_tensor(X_test, dtype=tf.int64)\n",
        "X_train = tf.convert_to_tensor(X_train, dtype=tf.int64)\n",
        "y_test = tf.convert_to_tensor(y_test, dtype=tf.int64)\n",
        "y_train = tf.convert_to_tensor(y_train, dtype=tf.int64)\n"
      ],
      "execution_count": null,
      "outputs": []
    },
    {
      "cell_type": "markdown",
      "metadata": {
        "id": "o-xed-TMCyMj"
      },
      "source": [
        "# New Section Artificial neuron Network Building "
      ]
    },
    {
      "cell_type": "code",
      "metadata": {
        "id": "A-w7L4mp8Mm2"
      },
      "source": [
        "ann = tf.keras.models.Sequential()"
      ],
      "execution_count": null,
      "outputs": []
    },
    {
      "cell_type": "code",
      "metadata": {
        "id": "9iHt3sMbDGA_"
      },
      "source": [
        "ann.add(tf.keras.layers.Dense(units=5,activation='relu'))"
      ],
      "execution_count": null,
      "outputs": []
    },
    {
      "cell_type": "code",
      "metadata": {
        "id": "gYYKZtAuEGVS"
      },
      "source": [
        "ann.add(tf.keras.layers.Dense(units=5,activation='relu'))"
      ],
      "execution_count": null,
      "outputs": []
    },
    {
      "cell_type": "code",
      "metadata": {
        "id": "rBoweqISEREx"
      },
      "source": [
        "ann.add(tf.keras.layers.Dense(units=1,activation='sigmoid'))"
      ],
      "execution_count": null,
      "outputs": []
    },
    {
      "cell_type": "code",
      "metadata": {
        "id": "52BBuGgxEVkG"
      },
      "source": [
        "ann.compile(optimizer='adam',loss ='binary_crossentropy', metrics = 'accuracy')"
      ],
      "execution_count": null,
      "outputs": []
    },
    {
      "cell_type": "code",
      "metadata": {
        "colab": {
          "base_uri": "https://localhost:8080/"
        },
        "id": "TNDV9G-GHOG2",
        "outputId": "01bd965f-51a0-463b-850b-5893ec47cefd"
      },
      "source": [
        "ann.fit(X_train,y_train,batch_size=32,epochs=150)"
      ],
      "execution_count": null,
      "outputs": [
        {
          "output_type": "stream",
          "text": [
            "Epoch 1/150\n",
            "235/235 [==============================] - 1s 835us/step - loss: 15.9766 - accuracy: 0.2305\n",
            "Epoch 2/150\n",
            "235/235 [==============================] - 0s 854us/step - loss: 0.5093 - accuracy: 0.7922\n",
            "Epoch 3/150\n",
            "235/235 [==============================] - 0s 930us/step - loss: 0.5066 - accuracy: 0.7937\n",
            "Epoch 4/150\n",
            "235/235 [==============================] - 0s 808us/step - loss: 0.4880 - accuracy: 0.8080\n",
            "Epoch 5/150\n",
            "235/235 [==============================] - 0s 838us/step - loss: 0.5109 - accuracy: 0.7909\n",
            "Epoch 6/150\n",
            "235/235 [==============================] - 0s 854us/step - loss: 0.4978 - accuracy: 0.8011\n",
            "Epoch 7/150\n",
            "235/235 [==============================] - 0s 793us/step - loss: 0.5013 - accuracy: 0.7974\n",
            "Epoch 8/150\n",
            "235/235 [==============================] - 0s 994us/step - loss: 0.4944 - accuracy: 0.8027\n",
            "Epoch 9/150\n",
            "235/235 [==============================] - 0s 840us/step - loss: 0.4932 - accuracy: 0.8024\n",
            "Epoch 10/150\n",
            "235/235 [==============================] - 0s 826us/step - loss: 0.4877 - accuracy: 0.8061\n",
            "Epoch 11/150\n",
            "235/235 [==============================] - 0s 981us/step - loss: 0.5138 - accuracy: 0.7883\n",
            "Epoch 12/150\n",
            "235/235 [==============================] - 0s 842us/step - loss: 0.5090 - accuracy: 0.7916\n",
            "Epoch 13/150\n",
            "235/235 [==============================] - 0s 807us/step - loss: 0.5064 - accuracy: 0.7922\n",
            "Epoch 14/150\n",
            "235/235 [==============================] - 0s 800us/step - loss: 0.5159 - accuracy: 0.7850\n",
            "Epoch 15/150\n",
            "235/235 [==============================] - 0s 939us/step - loss: 0.4768 - accuracy: 0.8109\n",
            "Epoch 16/150\n",
            "235/235 [==============================] - 0s 918us/step - loss: 0.4916 - accuracy: 0.7971\n",
            "Epoch 17/150\n",
            "235/235 [==============================] - 0s 840us/step - loss: 0.4902 - accuracy: 0.7955\n",
            "Epoch 18/150\n",
            "235/235 [==============================] - 0s 801us/step - loss: 0.4773 - accuracy: 0.7972\n",
            "Epoch 19/150\n",
            "235/235 [==============================] - 0s 841us/step - loss: 0.4783 - accuracy: 0.7898\n",
            "Epoch 20/150\n",
            "235/235 [==============================] - 0s 785us/step - loss: 0.4504 - accuracy: 0.8034\n",
            "Epoch 21/150\n",
            "235/235 [==============================] - 0s 778us/step - loss: 0.4419 - accuracy: 0.8057\n",
            "Epoch 22/150\n",
            "235/235 [==============================] - 0s 827us/step - loss: 0.4536 - accuracy: 0.7954\n",
            "Epoch 23/150\n",
            "235/235 [==============================] - 0s 855us/step - loss: 0.4589 - accuracy: 0.7883\n",
            "Epoch 24/150\n",
            "235/235 [==============================] - 0s 785us/step - loss: 0.4515 - accuracy: 0.8018\n",
            "Epoch 25/150\n",
            "235/235 [==============================] - 0s 901us/step - loss: 0.4429 - accuracy: 0.8160\n",
            "Epoch 26/150\n",
            "235/235 [==============================] - 0s 877us/step - loss: 0.4406 - accuracy: 0.8243\n",
            "Epoch 27/150\n",
            "235/235 [==============================] - 0s 888us/step - loss: 0.4408 - accuracy: 0.8121\n",
            "Epoch 28/150\n",
            "235/235 [==============================] - 0s 838us/step - loss: 0.4498 - accuracy: 0.8116\n",
            "Epoch 29/150\n",
            "235/235 [==============================] - 0s 917us/step - loss: 0.4425 - accuracy: 0.8219\n",
            "Epoch 30/150\n",
            "235/235 [==============================] - 0s 780us/step - loss: 0.4308 - accuracy: 0.8236\n",
            "Epoch 31/150\n",
            "235/235 [==============================] - 0s 777us/step - loss: 0.4480 - accuracy: 0.8106\n",
            "Epoch 32/150\n",
            "235/235 [==============================] - 0s 880us/step - loss: 0.4439 - accuracy: 0.8124\n",
            "Epoch 33/150\n",
            "235/235 [==============================] - 0s 809us/step - loss: 0.4416 - accuracy: 0.8180\n",
            "Epoch 34/150\n",
            "235/235 [==============================] - 0s 828us/step - loss: 0.4389 - accuracy: 0.8163\n",
            "Epoch 35/150\n",
            "235/235 [==============================] - 0s 789us/step - loss: 0.4287 - accuracy: 0.8190\n",
            "Epoch 36/150\n",
            "235/235 [==============================] - 0s 815us/step - loss: 0.4358 - accuracy: 0.8192\n",
            "Epoch 37/150\n",
            "235/235 [==============================] - 0s 787us/step - loss: 0.4391 - accuracy: 0.8161\n",
            "Epoch 38/150\n",
            "235/235 [==============================] - 0s 844us/step - loss: 0.4487 - accuracy: 0.8088\n",
            "Epoch 39/150\n",
            "235/235 [==============================] - 0s 826us/step - loss: 0.4427 - accuracy: 0.8155\n",
            "Epoch 40/150\n",
            "235/235 [==============================] - 0s 824us/step - loss: 0.4410 - accuracy: 0.8164\n",
            "Epoch 41/150\n",
            "235/235 [==============================] - 0s 828us/step - loss: 0.4349 - accuracy: 0.8245\n",
            "Epoch 42/150\n",
            "235/235 [==============================] - 0s 850us/step - loss: 0.4439 - accuracy: 0.8098\n",
            "Epoch 43/150\n",
            "235/235 [==============================] - 0s 842us/step - loss: 0.4437 - accuracy: 0.8181\n",
            "Epoch 44/150\n",
            "235/235 [==============================] - 0s 779us/step - loss: 0.4375 - accuracy: 0.8199\n",
            "Epoch 45/150\n",
            "235/235 [==============================] - 0s 759us/step - loss: 0.4388 - accuracy: 0.8142\n",
            "Epoch 46/150\n",
            "235/235 [==============================] - 0s 798us/step - loss: 0.4369 - accuracy: 0.8200\n",
            "Epoch 47/150\n",
            "235/235 [==============================] - 0s 818us/step - loss: 0.4481 - accuracy: 0.8114\n",
            "Epoch 48/150\n",
            "235/235 [==============================] - 0s 945us/step - loss: 0.4478 - accuracy: 0.8143\n",
            "Epoch 49/150\n",
            "235/235 [==============================] - 0s 795us/step - loss: 0.4387 - accuracy: 0.8125\n",
            "Epoch 50/150\n",
            "235/235 [==============================] - 0s 833us/step - loss: 0.4444 - accuracy: 0.8107\n",
            "Epoch 51/150\n",
            "235/235 [==============================] - 0s 836us/step - loss: 0.4371 - accuracy: 0.8170\n",
            "Epoch 52/150\n",
            "235/235 [==============================] - 0s 794us/step - loss: 0.4468 - accuracy: 0.8121\n",
            "Epoch 53/150\n",
            "235/235 [==============================] - 0s 803us/step - loss: 0.4514 - accuracy: 0.8114\n",
            "Epoch 54/150\n",
            "235/235 [==============================] - 0s 821us/step - loss: 0.4300 - accuracy: 0.8287\n",
            "Epoch 55/150\n",
            "235/235 [==============================] - 0s 837us/step - loss: 0.4340 - accuracy: 0.8198\n",
            "Epoch 56/150\n",
            "235/235 [==============================] - 0s 929us/step - loss: 0.4320 - accuracy: 0.8288\n",
            "Epoch 57/150\n",
            "235/235 [==============================] - 0s 803us/step - loss: 0.4272 - accuracy: 0.8249\n",
            "Epoch 58/150\n",
            "235/235 [==============================] - 0s 774us/step - loss: 0.4427 - accuracy: 0.8206\n",
            "Epoch 59/150\n",
            "235/235 [==============================] - 0s 846us/step - loss: 0.4394 - accuracy: 0.8173\n",
            "Epoch 60/150\n",
            "235/235 [==============================] - 0s 813us/step - loss: 0.4405 - accuracy: 0.8174\n",
            "Epoch 61/150\n",
            "235/235 [==============================] - 0s 831us/step - loss: 0.4323 - accuracy: 0.8221\n",
            "Epoch 62/150\n",
            "235/235 [==============================] - 0s 775us/step - loss: 0.4347 - accuracy: 0.8186\n",
            "Epoch 63/150\n",
            "235/235 [==============================] - 0s 918us/step - loss: 0.4432 - accuracy: 0.8143\n",
            "Epoch 64/150\n",
            "235/235 [==============================] - 0s 879us/step - loss: 0.4384 - accuracy: 0.8201\n",
            "Epoch 65/150\n",
            "235/235 [==============================] - 0s 835us/step - loss: 0.4369 - accuracy: 0.8136\n",
            "Epoch 66/150\n",
            "235/235 [==============================] - 0s 831us/step - loss: 0.4346 - accuracy: 0.8158\n",
            "Epoch 67/150\n",
            "235/235 [==============================] - 0s 791us/step - loss: 0.4405 - accuracy: 0.8163\n",
            "Epoch 68/150\n",
            "235/235 [==============================] - 0s 855us/step - loss: 0.4271 - accuracy: 0.8261\n",
            "Epoch 69/150\n",
            "235/235 [==============================] - 0s 806us/step - loss: 0.4391 - accuracy: 0.8170\n",
            "Epoch 70/150\n",
            "235/235 [==============================] - 0s 777us/step - loss: 0.4419 - accuracy: 0.8201\n",
            "Epoch 71/150\n",
            "235/235 [==============================] - 0s 807us/step - loss: 0.4425 - accuracy: 0.8179\n",
            "Epoch 72/150\n",
            "235/235 [==============================] - 0s 782us/step - loss: 0.4413 - accuracy: 0.8170\n",
            "Epoch 73/150\n",
            "235/235 [==============================] - 0s 828us/step - loss: 0.4338 - accuracy: 0.8247\n",
            "Epoch 74/150\n",
            "235/235 [==============================] - 0s 928us/step - loss: 0.4399 - accuracy: 0.8166\n",
            "Epoch 75/150\n",
            "235/235 [==============================] - 0s 820us/step - loss: 0.4349 - accuracy: 0.8228\n",
            "Epoch 76/150\n",
            "235/235 [==============================] - 0s 816us/step - loss: 0.4352 - accuracy: 0.8168\n",
            "Epoch 77/150\n",
            "235/235 [==============================] - 0s 814us/step - loss: 0.4409 - accuracy: 0.8116\n",
            "Epoch 78/150\n",
            "235/235 [==============================] - 0s 831us/step - loss: 0.4469 - accuracy: 0.8104\n",
            "Epoch 79/150\n",
            "235/235 [==============================] - 0s 899us/step - loss: 0.4329 - accuracy: 0.8210\n",
            "Epoch 80/150\n",
            "235/235 [==============================] - 0s 832us/step - loss: 0.4314 - accuracy: 0.8224\n",
            "Epoch 81/150\n",
            "235/235 [==============================] - 0s 838us/step - loss: 0.4409 - accuracy: 0.8166\n",
            "Epoch 82/150\n",
            "235/235 [==============================] - 0s 840us/step - loss: 0.4496 - accuracy: 0.8149\n",
            "Epoch 83/150\n",
            "235/235 [==============================] - 0s 824us/step - loss: 0.4368 - accuracy: 0.8168\n",
            "Epoch 84/150\n",
            "235/235 [==============================] - 0s 790us/step - loss: 0.4344 - accuracy: 0.8191\n",
            "Epoch 85/150\n",
            "235/235 [==============================] - 0s 801us/step - loss: 0.4262 - accuracy: 0.8260\n",
            "Epoch 86/150\n",
            "235/235 [==============================] - 0s 808us/step - loss: 0.4296 - accuracy: 0.8248\n",
            "Epoch 87/150\n",
            "235/235 [==============================] - 0s 812us/step - loss: 0.4349 - accuracy: 0.8225\n",
            "Epoch 88/150\n",
            "235/235 [==============================] - 0s 842us/step - loss: 0.4394 - accuracy: 0.8192\n",
            "Epoch 89/150\n",
            "235/235 [==============================] - 0s 821us/step - loss: 0.4308 - accuracy: 0.8214\n",
            "Epoch 90/150\n",
            "235/235 [==============================] - 0s 791us/step - loss: 0.4344 - accuracy: 0.8213\n",
            "Epoch 91/150\n",
            "235/235 [==============================] - 0s 817us/step - loss: 0.4281 - accuracy: 0.8235\n",
            "Epoch 92/150\n",
            "235/235 [==============================] - 0s 815us/step - loss: 0.4293 - accuracy: 0.8245\n",
            "Epoch 93/150\n",
            "235/235 [==============================] - 0s 961us/step - loss: 0.4413 - accuracy: 0.8211\n",
            "Epoch 94/150\n",
            "235/235 [==============================] - 0s 833us/step - loss: 0.4364 - accuracy: 0.8200\n",
            "Epoch 95/150\n",
            "235/235 [==============================] - 0s 802us/step - loss: 0.4375 - accuracy: 0.8201\n",
            "Epoch 96/150\n",
            "235/235 [==============================] - 0s 805us/step - loss: 0.4394 - accuracy: 0.8181\n",
            "Epoch 97/150\n",
            "235/235 [==============================] - 0s 812us/step - loss: 0.4371 - accuracy: 0.8133\n",
            "Epoch 98/150\n",
            "235/235 [==============================] - 0s 954us/step - loss: 0.4423 - accuracy: 0.8123\n",
            "Epoch 99/150\n",
            "235/235 [==============================] - 0s 837us/step - loss: 0.4315 - accuracy: 0.8237\n",
            "Epoch 100/150\n",
            "235/235 [==============================] - 0s 793us/step - loss: 0.4275 - accuracy: 0.8258\n",
            "Epoch 101/150\n",
            "235/235 [==============================] - 0s 912us/step - loss: 0.4427 - accuracy: 0.8130\n",
            "Epoch 102/150\n",
            "235/235 [==============================] - 0s 788us/step - loss: 0.4447 - accuracy: 0.8159\n",
            "Epoch 103/150\n",
            "235/235 [==============================] - 0s 826us/step - loss: 0.4444 - accuracy: 0.8149\n",
            "Epoch 104/150\n",
            "235/235 [==============================] - 0s 871us/step - loss: 0.4427 - accuracy: 0.8207\n",
            "Epoch 105/150\n",
            "235/235 [==============================] - 0s 942us/step - loss: 0.4473 - accuracy: 0.8163\n",
            "Epoch 106/150\n",
            "235/235 [==============================] - 0s 857us/step - loss: 0.4310 - accuracy: 0.8244\n",
            "Epoch 107/150\n",
            "235/235 [==============================] - 0s 847us/step - loss: 0.4352 - accuracy: 0.8176\n",
            "Epoch 108/150\n",
            "235/235 [==============================] - 0s 857us/step - loss: 0.4455 - accuracy: 0.8136\n",
            "Epoch 109/150\n",
            "235/235 [==============================] - 0s 840us/step - loss: 0.4309 - accuracy: 0.8225\n",
            "Epoch 110/150\n",
            "235/235 [==============================] - 0s 904us/step - loss: 0.4319 - accuracy: 0.8214\n",
            "Epoch 111/150\n",
            "235/235 [==============================] - 0s 887us/step - loss: 0.4480 - accuracy: 0.8135\n",
            "Epoch 112/150\n",
            "235/235 [==============================] - 0s 965us/step - loss: 0.4241 - accuracy: 0.8297\n",
            "Epoch 113/150\n",
            "235/235 [==============================] - 0s 857us/step - loss: 0.4366 - accuracy: 0.8184\n",
            "Epoch 114/150\n",
            "235/235 [==============================] - 0s 900us/step - loss: 0.4429 - accuracy: 0.8133\n",
            "Epoch 115/150\n",
            "235/235 [==============================] - 0s 852us/step - loss: 0.4355 - accuracy: 0.8186\n",
            "Epoch 116/150\n",
            "235/235 [==============================] - 0s 830us/step - loss: 0.4332 - accuracy: 0.8219\n",
            "Epoch 117/150\n",
            "235/235 [==============================] - 0s 926us/step - loss: 0.4445 - accuracy: 0.8117\n",
            "Epoch 118/150\n",
            "235/235 [==============================] - 0s 843us/step - loss: 0.4383 - accuracy: 0.8216\n",
            "Epoch 119/150\n",
            "235/235 [==============================] - 0s 819us/step - loss: 0.4416 - accuracy: 0.8158\n",
            "Epoch 120/150\n",
            "235/235 [==============================] - 0s 796us/step - loss: 0.4429 - accuracy: 0.8130\n",
            "Epoch 121/150\n",
            "235/235 [==============================] - 0s 887us/step - loss: 0.4287 - accuracy: 0.8234\n",
            "Epoch 122/150\n",
            "235/235 [==============================] - 0s 819us/step - loss: 0.4333 - accuracy: 0.8189\n",
            "Epoch 123/150\n",
            "235/235 [==============================] - 0s 833us/step - loss: 0.4364 - accuracy: 0.8210\n",
            "Epoch 124/150\n",
            "235/235 [==============================] - 0s 930us/step - loss: 0.4377 - accuracy: 0.8225\n",
            "Epoch 125/150\n",
            "235/235 [==============================] - 0s 825us/step - loss: 0.4346 - accuracy: 0.8209\n",
            "Epoch 126/150\n",
            "235/235 [==============================] - 0s 907us/step - loss: 0.4243 - accuracy: 0.8283\n",
            "Epoch 127/150\n",
            "235/235 [==============================] - 0s 910us/step - loss: 0.4392 - accuracy: 0.8193\n",
            "Epoch 128/150\n",
            "235/235 [==============================] - 0s 846us/step - loss: 0.4249 - accuracy: 0.8231\n",
            "Epoch 129/150\n",
            "235/235 [==============================] - 0s 834us/step - loss: 0.4400 - accuracy: 0.8144\n",
            "Epoch 130/150\n",
            "235/235 [==============================] - 0s 812us/step - loss: 0.4356 - accuracy: 0.8194\n",
            "Epoch 131/150\n",
            "235/235 [==============================] - 0s 856us/step - loss: 0.4252 - accuracy: 0.8255\n",
            "Epoch 132/150\n",
            "235/235 [==============================] - 0s 844us/step - loss: 0.4314 - accuracy: 0.8219\n",
            "Epoch 133/150\n",
            "235/235 [==============================] - 0s 902us/step - loss: 0.4394 - accuracy: 0.8152\n",
            "Epoch 134/150\n",
            "235/235 [==============================] - 0s 837us/step - loss: 0.4322 - accuracy: 0.8227\n",
            "Epoch 135/150\n",
            "235/235 [==============================] - 0s 827us/step - loss: 0.4457 - accuracy: 0.8153\n",
            "Epoch 136/150\n",
            "235/235 [==============================] - 0s 821us/step - loss: 0.4358 - accuracy: 0.8193\n",
            "Epoch 137/150\n",
            "235/235 [==============================] - 0s 909us/step - loss: 0.4382 - accuracy: 0.8207\n",
            "Epoch 138/150\n",
            "235/235 [==============================] - 0s 796us/step - loss: 0.4383 - accuracy: 0.8150\n",
            "Epoch 139/150\n",
            "235/235 [==============================] - 0s 805us/step - loss: 0.4351 - accuracy: 0.8194\n",
            "Epoch 140/150\n",
            "235/235 [==============================] - 0s 899us/step - loss: 0.4352 - accuracy: 0.8218\n",
            "Epoch 141/150\n",
            "235/235 [==============================] - 0s 799us/step - loss: 0.4100 - accuracy: 0.8393\n",
            "Epoch 142/150\n",
            "235/235 [==============================] - 0s 963us/step - loss: 0.4324 - accuracy: 0.8254\n",
            "Epoch 143/150\n",
            "235/235 [==============================] - 0s 806us/step - loss: 0.4295 - accuracy: 0.8220\n",
            "Epoch 144/150\n",
            "235/235 [==============================] - 0s 808us/step - loss: 0.4457 - accuracy: 0.8177\n",
            "Epoch 145/150\n",
            "235/235 [==============================] - 0s 912us/step - loss: 0.4367 - accuracy: 0.8161\n",
            "Epoch 146/150\n",
            "235/235 [==============================] - 0s 824us/step - loss: 0.4337 - accuracy: 0.8193\n",
            "Epoch 147/150\n",
            "235/235 [==============================] - 0s 832us/step - loss: 0.4372 - accuracy: 0.8213\n",
            "Epoch 148/150\n",
            "235/235 [==============================] - 0s 807us/step - loss: 0.4362 - accuracy: 0.8185\n",
            "Epoch 149/150\n",
            "235/235 [==============================] - 0s 940us/step - loss: 0.4255 - accuracy: 0.8219\n",
            "Epoch 150/150\n",
            "235/235 [==============================] - 0s 791us/step - loss: 0.4308 - accuracy: 0.8227\n"
          ],
          "name": "stdout"
        },
        {
          "output_type": "execute_result",
          "data": {
            "text/plain": [
              "<tensorflow.python.keras.callbacks.History at 0x7fb330ba1510>"
            ]
          },
          "metadata": {
            "tags": []
          },
          "execution_count": 24
        }
      ]
    },
    {
      "cell_type": "code",
      "metadata": {
        "id": "LGmh_v-WHe1C"
      },
      "source": [
        "y_pred = (ann.predict(X_test) > 0.5)"
      ],
      "execution_count": null,
      "outputs": []
    },
    {
      "cell_type": "code",
      "metadata": {
        "id": "gcYh2NfBj7vS"
      },
      "source": [
        "y_testt = np.array(y_test)"
      ],
      "execution_count": null,
      "outputs": []
    },
    {
      "cell_type": "code",
      "metadata": {
        "colab": {
          "base_uri": "https://localhost:8080/"
        },
        "id": "cB1u9i-4j9P9",
        "outputId": "45462e35-e805-4f3d-cec2-8af1f41d9623"
      },
      "source": [
        "np.concatenate((y_pred.reshape(len(y_pred),1), y_testt.reshape(len(y_testt),1)),1)"
      ],
      "execution_count": null,
      "outputs": [
        {
          "output_type": "execute_result",
          "data": {
            "text/plain": [
              "array([[0, 0],\n",
              "       [0, 1],\n",
              "       [0, 0],\n",
              "       ...,\n",
              "       [0, 0],\n",
              "       [0, 0],\n",
              "       [0, 0]])"
            ]
          },
          "metadata": {
            "tags": []
          },
          "execution_count": 37
        }
      ]
    },
    {
      "cell_type": "code",
      "metadata": {
        "id": "YdPMHcDdmK67"
      },
      "source": [
        "from sklearn.metrics import confusion_matrix,accuracy_score"
      ],
      "execution_count": null,
      "outputs": []
    },
    {
      "cell_type": "code",
      "metadata": {
        "colab": {
          "base_uri": "https://localhost:8080/"
        },
        "id": "21-Wu3w4mStW",
        "outputId": "912a2f4c-55e0-4ed2-d881-d44573907f08"
      },
      "source": [
        "print(confusion_matrix(y_testt,y_pred))"
      ],
      "execution_count": null,
      "outputs": [
        {
          "output_type": "stream",
          "text": [
            "[[1953   38]\n",
            " [ 412   97]]\n"
          ],
          "name": "stdout"
        }
      ]
    },
    {
      "cell_type": "code",
      "metadata": {
        "colab": {
          "base_uri": "https://localhost:8080/"
        },
        "id": "PUisgZjRnPXB",
        "outputId": "74c21e52-83ed-4657-fc91-50d9b549fb72"
      },
      "source": [
        "print(accuracy_score(y_testt,y_pred))"
      ],
      "execution_count": null,
      "outputs": [
        {
          "output_type": "stream",
          "text": [
            "0.82\n"
          ],
          "name": "stdout"
        }
      ]
    },
    {
      "cell_type": "code",
      "metadata": {
        "colab": {
          "base_uri": "https://localhost:8080/"
        },
        "id": "lZy3konRnUR7",
        "outputId": "4bc9c743-2958-4cbb-fc00-b750d7b7b810"
      },
      "source": [
        "a = [[[1,2,3]]]\n",
        "a = np.array(a)\n",
        "a.shape"
      ],
      "execution_count": null,
      "outputs": [
        {
          "output_type": "execute_result",
          "data": {
            "text/plain": [
              "(1, 1, 3)"
            ]
          },
          "metadata": {
            "tags": []
          },
          "execution_count": 53
        }
      ]
    },
    {
      "cell_type": "code",
      "metadata": {
        "id": "_gnZMJcvorJj"
      },
      "source": [
        ""
      ],
      "execution_count": null,
      "outputs": []
    }
  ]
}